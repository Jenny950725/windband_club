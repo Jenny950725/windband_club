{
 "cells": [
  {
   "cell_type": "code",
   "execution_count": null,
   "id": "b3c798f7",
   "metadata": {},
   "outputs": [],
   "source": [
    "%matplotlib inline\n",
    "import numpy as np\n",
    "import pandas as pd"
   ]
  },
  {
   "cell_type": "code",
   "execution_count": null,
   "id": "912b2214",
   "metadata": {},
   "outputs": [],
   "source": [
    "df = pd.read_excel(r\"檔案路徑\")"
   ]
  },
  {
   "cell_type": "code",
   "execution_count": null,
   "id": "8860f6b5",
   "metadata": {},
   "outputs": [],
   "source": [
    "data = []\n",
    "num_of_person = 52\n",
    "\n",
    "for i in range(num_of_person):\n",
    "    for j in range(5):\n",
    "        data.append(df.iat[i, j])"
   ]
  },
  {
   "cell_type": "code",
   "execution_count": null,
   "id": "7003f746",
   "metadata": {},
   "outputs": [],
   "source": [
    "for i in range(num_of_person * 5):  #轉換成符合報名表的格式\n",
    "    print(data[i])\n",
    "    if i > 0 :\n",
    "        if (i + 1) % 30==0 :  #印完六個人的資料，就跳一行\n",
    "            print(\"\\n\")"
   ]
  }
 ],
 "metadata": {
  "kernelspec": {
   "display_name": "Python 3 (ipykernel)",
   "language": "python",
   "name": "python3"
  },
  "language_info": {
   "codemirror_mode": {
    "name": "ipython",
    "version": 3
   },
   "file_extension": ".py",
   "mimetype": "text/x-python",
   "name": "python",
   "nbconvert_exporter": "python",
   "pygments_lexer": "ipython3",
   "version": "3.9.7"
  }
 },
 "nbformat": 4,
 "nbformat_minor": 5
}
